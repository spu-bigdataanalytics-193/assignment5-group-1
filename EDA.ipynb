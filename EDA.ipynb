{
  "nbformat": 4,
  "nbformat_minor": 0,
  "metadata": {
    "colab": {
      "name": "EDA.ipynb",
      "provenance": [],
      "collapsed_sections": []
    },
    "kernelspec": {
      "name": "python3",
      "display_name": "Python 3"
    }
  },
  "cells": [
    {
      "cell_type": "markdown",
      "metadata": {
        "id": "8fqm_LENMoBJ",
        "colab_type": "text"
      },
      "source": [
        "## 1. **EDA**"
      ]
    },
    {
      "cell_type": "markdown",
      "metadata": {
        "id": "T_j6Y5Z_klyo",
        "colab_type": "text"
      },
      "source": [
        "EDA is one of the crucial step in data science that allows us to achieve certain insights and statistical measure that is essential for the business continuity, stockholders and data scientists"
      ]
    },
    {
      "cell_type": "code",
      "metadata": {
        "id": "OeVkmCrgMyt4",
        "colab_type": "code",
        "colab": {}
      },
      "source": [
        "!apt-get install openjdk-8-jdk-headless -qq > /dev/null\n",
        "!wget -q https://www-us.apache.org/dist/spark/spark-2.4.5/spark-2.4.5-bin-hadoop2.7.tgz\n",
        "!tar xf spark-2.4.5-bin-hadoop2.7.tgz\n",
        "!pip install -q findspark"
      ],
      "execution_count": 0,
      "outputs": []
    },
    {
      "cell_type": "code",
      "metadata": {
        "id": "GNWTk5cPM4X2",
        "colab_type": "code",
        "colab": {}
      },
      "source": [
        "import os\n",
        "os.environ[\"JAVA_HOME\"] = \"/usr/lib/jvm/java-8-openjdk-amd64\"\n",
        "os.environ[\"SPARK_HOME\"] = \"/content/spark-2.4.5-bin-hadoop2.7\""
      ],
      "execution_count": 0,
      "outputs": []
    },
    {
      "cell_type": "code",
      "metadata": {
        "id": "VLnaSCCNM-9r",
        "colab_type": "code",
        "outputId": "286c3651-ee05-4a34-ecb3-f0755bb09c3a",
        "colab": {
          "base_uri": "https://localhost:8080/",
          "height": 302
        }
      },
      "source": [
        "! wget -p data/ http://deepyeti.ucsd.edu/jianmo/amazon/categoryFiles/Arts_Crafts_and_Sewing.json.gz"
      ],
      "execution_count": 0,
      "outputs": [
        {
          "output_type": "stream",
          "text": [
            "--2020-02-25 02:36:33--  http://data/\n",
            "Resolving data (data)... failed: No address associated with hostname.\n",
            "wget: unable to resolve host address ‘data’\n",
            "--2020-02-25 02:36:33--  http://deepyeti.ucsd.edu/jianmo/amazon/categoryFiles/Arts_Crafts_and_Sewing.json.gz\n",
            "Resolving deepyeti.ucsd.edu (deepyeti.ucsd.edu)... 169.228.63.50\n",
            "Connecting to deepyeti.ucsd.edu (deepyeti.ucsd.edu)|169.228.63.50|:80... connected.\n",
            "HTTP request sent, awaiting response... 200 OK\n",
            "Length: 306424435 (292M) [application/octet-stream]\n",
            "Saving to: ‘deepyeti.ucsd.edu/jianmo/amazon/categoryFiles/Arts_Crafts_and_Sewing.json.gz’\n",
            "\n",
            "deepyeti.ucsd.edu/j 100%[===================>] 292.23M  5.61MB/s    in 52s     \n",
            "\n",
            "2020-02-25 02:37:26 (5.59 MB/s) - ‘deepyeti.ucsd.edu/jianmo/amazon/categoryFiles/Arts_Crafts_and_Sewing.json.gz’ saved [306424435/306424435]\n",
            "\n",
            "FINISHED --2020-02-25 02:37:26--\n",
            "Total wall clock time: 53s\n",
            "Downloaded: 1 files, 292M in 52s (5.59 MB/s)\n"
          ],
          "name": "stdout"
        }
      ]
    },
    {
      "cell_type": "markdown",
      "metadata": {
        "id": "jNbXzrJPNHKX",
        "colab_type": "text"
      },
      "source": [
        "Mounting Drive"
      ]
    },
    {
      "cell_type": "code",
      "metadata": {
        "id": "T9weGeXXNNYX",
        "colab_type": "code",
        "outputId": "0c911bc2-dccc-4ff2-f588-9ac0b0a23e35",
        "colab": {
          "base_uri": "https://localhost:8080/",
          "height": 121
        }
      },
      "source": [
        "from google.colab import drive\n",
        "drive.mount('/content/drive')"
      ],
      "execution_count": 0,
      "outputs": [
        {
          "output_type": "stream",
          "text": [
            "Go to this URL in a browser: https://accounts.google.com/o/oauth2/auth?client_id=947318989803-6bn6qk8qdgf4n4g3pfee6491hc0brc4i.apps.googleusercontent.com&redirect_uri=urn%3aietf%3awg%3aoauth%3a2.0%3aoob&response_type=code&scope=email%20https%3a%2f%2fwww.googleapis.com%2fauth%2fdocs.test%20https%3a%2f%2fwww.googleapis.com%2fauth%2fdrive%20https%3a%2f%2fwww.googleapis.com%2fauth%2fdrive.photos.readonly%20https%3a%2f%2fwww.googleapis.com%2fauth%2fpeopleapi.readonly\n",
            "\n",
            "Enter your authorization code:\n",
            "··········\n",
            "Mounted at /content/drive\n"
          ],
          "name": "stdout"
        }
      ]
    },
    {
      "cell_type": "code",
      "metadata": {
        "id": "auFP4TJTNOa8",
        "colab_type": "code",
        "outputId": "8841ba99-2f79-4f7f-89da-6592cde75295",
        "colab": {
          "base_uri": "https://localhost:8080/",
          "height": 235
        }
      },
      "source": [
        "pip install pyspark"
      ],
      "execution_count": 0,
      "outputs": [
        {
          "output_type": "stream",
          "text": [
            "Collecting pyspark\n",
            "\u001b[?25l  Downloading https://files.pythonhosted.org/packages/9a/5a/271c416c1c2185b6cb0151b29a91fff6fcaed80173c8584ff6d20e46b465/pyspark-2.4.5.tar.gz (217.8MB)\n",
            "\u001b[K     |████████████████████████████████| 217.8MB 58kB/s \n",
            "\u001b[?25hCollecting py4j==0.10.7\n",
            "\u001b[?25l  Downloading https://files.pythonhosted.org/packages/e3/53/c737818eb9a7dc32a7cd4f1396e787bd94200c3997c72c1dbe028587bd76/py4j-0.10.7-py2.py3-none-any.whl (197kB)\n",
            "\u001b[K     |████████████████████████████████| 204kB 37.7MB/s \n",
            "\u001b[?25hBuilding wheels for collected packages: pyspark\n",
            "  Building wheel for pyspark (setup.py) ... \u001b[?25l\u001b[?25hdone\n",
            "  Created wheel for pyspark: filename=pyspark-2.4.5-py2.py3-none-any.whl size=218257927 sha256=74cc8e6586f3f895d9c488541869dd4824adad138e94de7aa2a18db3e551fc77\n",
            "  Stored in directory: /root/.cache/pip/wheels/bf/db/04/61d66a5939364e756eb1c1be4ec5bdce6e04047fc7929a3c3c\n",
            "Successfully built pyspark\n",
            "Installing collected packages: py4j, pyspark\n",
            "Successfully installed py4j-0.10.7 pyspark-2.4.5\n"
          ],
          "name": "stdout"
        }
      ]
    },
    {
      "cell_type": "code",
      "metadata": {
        "id": "NoSk5jhBNZhx",
        "colab_type": "code",
        "colab": {}
      },
      "source": [
        "from pyspark.sql import SparkSession\n",
        "from pyspark.ml.feature import Tokenizer, StopWordsRemover\n",
        "from pyspark.sql.functions import *\n",
        "import matplotlib.pyplot as plt\n",
        "import seaborn as sns\n",
        "import pandas as pd\n",
        "import numpy as np"
      ],
      "execution_count": 0,
      "outputs": []
    },
    {
      "cell_type": "code",
      "metadata": {
        "id": "0hDkbiuhNg8G",
        "colab_type": "code",
        "colab": {}
      },
      "source": [
        "APP_NAME = \"Exploratory_Data_Analysis\"\n",
        "SPARK_URL = \"local[*]\""
      ],
      "execution_count": 0,
      "outputs": []
    },
    {
      "cell_type": "code",
      "metadata": {
        "id": "lfUzDx1qNhXr",
        "colab_type": "code",
        "colab": {}
      },
      "source": [
        "spark = SparkSession.builder.appName(APP_NAME).master(SPARK_URL).getOrCreate()"
      ],
      "execution_count": 0,
      "outputs": []
    },
    {
      "cell_type": "code",
      "metadata": {
        "id": "2f7EB4ogNojP",
        "colab_type": "code",
        "colab": {}
      },
      "source": [
        "data = spark.read.json('/content/drive/My Drive/Arts_Crafts_and_Sewing.json.gz') "
      ],
      "execution_count": 0,
      "outputs": []
    },
    {
      "cell_type": "markdown",
      "metadata": {
        "id": "bW42jR2fNtKd",
        "colab_type": "text"
      },
      "source": [
        "**Reading Columns**"
      ]
    },
    {
      "cell_type": "code",
      "metadata": {
        "id": "GpGRCuX4Nxql",
        "colab_type": "code",
        "outputId": "897b1e98-456e-45b5-8a18-cd2e20d66c9e",
        "colab": {
          "base_uri": "https://localhost:8080/",
          "height": 218
        }
      },
      "source": [
        "data.columns"
      ],
      "execution_count": 0,
      "outputs": [
        {
          "output_type": "execute_result",
          "data": {
            "text/plain": [
              "['asin',\n",
              " 'image',\n",
              " 'overall',\n",
              " 'reviewText',\n",
              " 'reviewTime',\n",
              " 'reviewerID',\n",
              " 'reviewerName',\n",
              " 'style',\n",
              " 'summary',\n",
              " 'unixReviewTime',\n",
              " 'verified',\n",
              " 'vote']"
            ]
          },
          "metadata": {
            "tags": []
          },
          "execution_count": 10
        }
      ]
    },
    {
      "cell_type": "markdown",
      "metadata": {
        "id": "2PuywR6LODwT",
        "colab_type": "text"
      },
      "source": [
        "Looking the Structure of Data"
      ]
    },
    {
      "cell_type": "code",
      "metadata": {
        "id": "tbTs_xFcOIB8",
        "colab_type": "code",
        "outputId": "dab0060c-c0ce-4dbb-88d1-9a513228da6a",
        "colab": {
          "base_uri": "https://localhost:8080/",
          "height": 454
        }
      },
      "source": [
        "data.show()"
      ],
      "execution_count": 0,
      "outputs": [
        {
          "output_type": "stream",
          "text": [
            "+----------+-----+-------+--------------------+-----------+--------------+--------------------+--------------------+--------------------+--------------+--------+----+\n",
            "|      asin|image|overall|          reviewText| reviewTime|    reviewerID|        reviewerName|               style|             summary|unixReviewTime|verified|vote|\n",
            "+----------+-----+-------+--------------------+-----------+--------------+--------------------+--------------------+--------------------+--------------+--------+----+\n",
            "|0449819906| null|    5.0|I've read this bo...| 11 6, 2013|A3U4E9PIZ8OWH1|      Shirley Curtis|[,,,,,,  Kindle E...|   A  WONDERFUL BOOK|    1383696000|    true|   4|\n",
            "|0449819906| null|    5.0|Nicely written di...|02 28, 2017|A3945D2TJ0PI86|            M. Smith|[,,,,,,  Kindle E...|                Nice|    1488240000|    true|null|\n",
            "|0449819906| null|    5.0|             love it|02 25, 2017|A2WZK72HLQ7SPT|     Amazon Customer|[,,,,,,  Paperbac...|          Five Stars|    1487980800|    true|null|\n",
            "|0449819906| null|    5.0|Good additional k...|01 25, 2017|A1Q7YJ1NPE6E0W|           MargaretT|[,,,,,,  Kindle E...|Good Reference in...|    1485302400|    true|null|\n",
            "|0449819906| null|    5.0|A gazillion patte...|01 12, 2017|A2846L8Q507JC4|               Dulce|[,,,,,,  Kindle E...|Extremely clear, ...|    1484179200|    true|null|\n",
            "|0449819906| null|    2.0|Just ok. Read bet...| 01 6, 2017|A3V21ZT37Y242L|      Sheila Fenchak|[,,,,,,  Kindle E...|             Just ok|    1483660800|    true|null|\n",
            "|0449819906| null|    5.0|The best knitting...|12 23, 2016| A1GJKG5OAQQ69|     Kindle Customer|[,,,,,,  Kindle E...|Thank you for the...|    1482451200|    true|null|\n",
            "|0449819906| null|    5.0|This book is a mo...|11 29, 2016|A1IQJ7PGO9I4MI|                 GPS|[,,,,,,  Kindle E...|         Magnificent|    1480377600|    true|null|\n",
            "|0449819906| null|    5.0|excellent variety...|11 11, 2016| AW3AYN77DSEA4|           Foxy lady|[,,,,,,  Paperbac...|          Five Stars|    1478822400|    true|null|\n",
            "|0449819906| null|    5.0|Another winner M....|09 30, 2016|A3AJK82I35MLKA|     Kindle Customer|[,,,,,,  Paperbac...|         A must have|    1475193600|    true|null|\n",
            "|0449819906| null|    5.0|Love all the patt...| 09 1, 2016|A2NWPBTQCH93RJ|              Cookie|[,,,,,,  Paperbac...|          Five Stars|    1472688000|    true|null|\n",
            "|0449819906| null|    4.0|Good selection of...|07 25, 2016|A3GMRNJMCK3R6H|      Samantha Byrne|[,,,,,,  Kindle E...|A good reference ...|    1469404800|    true|null|\n",
            "|0449819906| null|    4.0|Contains some int...|03 29, 2016| AIE8N9U317ZBM|      Zelmira, Ph.D.|[,,,,,,  Kindle E...|          Four Stars|    1459209600|    true|null|\n",
            "|0449819906| null|    5.0|Super useful for ...|03 28, 2016|A12G7GGJUQKOAQ|             anyeone|[,,,,,,  Paperbac...|Super useful for ...|    1459123200|    true|null|\n",
            "|0449819906| null|    5.0|Loved it. Differe...|03 15, 2016|A12E8CPGM3RWT4|               Carol|[,,,,,,  Kindle E...|          Five Stars|    1458000000|   false|null|\n",
            "|0449819906| null|    5.0|I love the book b...| 02 5, 2016|A2ZZ00XL211U04|     Amazon Customer|[,,,,,,  Paperbac...|          Five Stars|    1454630400|    true|null|\n",
            "|0449819906| null|    5.0|Awesome book!!! A...|01 13, 2016| AXGEBLSL08ZPC|          ahayes7349|[,,,,,,  Paperbac...|          Five Stars|    1452643200|    true|null|\n",
            "|0449819906| null|    5.0|   Lots of stitches.| 11 9, 2015|A361X72MFHNSX5|      Sharlot Grehem|[,,,,,,  Kindle E...|   Knitting stitches|    1447027200|    true|null|\n",
            "|0449819906| null|    5.0|Easy to follow al...| 11 4, 2015|A2QG1KI2V93K3Q|       Mark Grantham|[,,,,,,  Paperbac...|          Five Stars|    1446595200|    true|null|\n",
            "|0449819906| null|    5.0|I'm a fairly expe...|08 12, 2015|A3ECOW0TWLH9V6|Dangerous when Co...|[,,,,,,  Paperbac...|My current favori...|    1439337600|    true|  18|\n",
            "+----------+-----+-------+--------------------+-----------+--------------+--------------------+--------------------+--------------------+--------------+--------+----+\n",
            "only showing top 20 rows\n",
            "\n"
          ],
          "name": "stdout"
        }
      ]
    },
    {
      "cell_type": "code",
      "metadata": {
        "id": "M0ZfILypOVKU",
        "colab_type": "code",
        "outputId": "d44216f5-5f79-4494-a123-e5f9c145f623",
        "colab": {
          "base_uri": "https://localhost:8080/",
          "height": 756
        }
      },
      "source": [
        "data.printSchema()"
      ],
      "execution_count": 0,
      "outputs": [
        {
          "output_type": "stream",
          "text": [
            "root\n",
            " |-- asin: string (nullable = true)\n",
            " |-- image: array (nullable = true)\n",
            " |    |-- element: string (containsNull = true)\n",
            " |-- overall: double (nullable = true)\n",
            " |-- reviewText: string (nullable = true)\n",
            " |-- reviewTime: string (nullable = true)\n",
            " |-- reviewerID: string (nullable = true)\n",
            " |-- reviewerName: string (nullable = true)\n",
            " |-- style: struct (nullable = true)\n",
            " |    |-- Color Name:: string (nullable = true)\n",
            " |    |-- Color:: string (nullable = true)\n",
            " |    |-- Design:: string (nullable = true)\n",
            " |    |-- Display Height:: string (nullable = true)\n",
            " |    |-- Edition:: string (nullable = true)\n",
            " |    |-- Flavor:: string (nullable = true)\n",
            " |    |-- Format:: string (nullable = true)\n",
            " |    |-- Item Display Length:: string (nullable = true)\n",
            " |    |-- Item Display Weight:: string (nullable = true)\n",
            " |    |-- Item Package Quantity:: string (nullable = true)\n",
            " |    |-- Length:: string (nullable = true)\n",
            " |    |-- Material Type:: string (nullable = true)\n",
            " |    |-- Material:: string (nullable = true)\n",
            " |    |-- Metal Type:: string (nullable = true)\n",
            " |    |-- Number of Items:: string (nullable = true)\n",
            " |    |-- Overall Length:: string (nullable = true)\n",
            " |    |-- Package Quantity:: string (nullable = true)\n",
            " |    |-- Package Type:: string (nullable = true)\n",
            " |    |-- Pattern:: string (nullable = true)\n",
            " |    |-- Product Packaging:: string (nullable = true)\n",
            " |    |-- Scent Name:: string (nullable = true)\n",
            " |    |-- Scent:: string (nullable = true)\n",
            " |    |-- Shape:: string (nullable = true)\n",
            " |    |-- Size Name:: string (nullable = true)\n",
            " |    |-- Size:: string (nullable = true)\n",
            " |    |-- Style Name:: string (nullable = true)\n",
            " |    |-- Style:: string (nullable = true)\n",
            " |    |-- Team Name:: string (nullable = true)\n",
            " |    |-- style name:: string (nullable = true)\n",
            " |-- summary: string (nullable = true)\n",
            " |-- unixReviewTime: long (nullable = true)\n",
            " |-- verified: boolean (nullable = true)\n",
            " |-- vote: string (nullable = true)\n",
            "\n"
          ],
          "name": "stdout"
        }
      ]
    },
    {
      "cell_type": "markdown",
      "metadata": {
        "id": "--Tde4H5Ophy",
        "colab_type": "text"
      },
      "source": [
        "**1.Graphical Representation of Overall**"
      ]
    },
    {
      "cell_type": "code",
      "metadata": {
        "id": "n_mibuK1OcnA",
        "colab_type": "code",
        "outputId": "f3026e08-00d8-4e79-bbcd-cd1a18592a71",
        "colab": {
          "base_uri": "https://localhost:8080/",
          "height": 185
        }
      },
      "source": [
        "overallCountsDF = (data\n",
        "               .groupBy('overall').count())\n",
        "overallCountsDF.show()"
      ],
      "execution_count": 0,
      "outputs": [
        {
          "output_type": "stream",
          "text": [
            "+-------+-------+\n",
            "|overall|  count|\n",
            "+-------+-------+\n",
            "|    1.0| 210232|\n",
            "|    4.0| 361840|\n",
            "|    3.0| 198200|\n",
            "|    2.0| 120994|\n",
            "|    5.0|1984651|\n",
            "+-------+-------+\n",
            "\n"
          ],
          "name": "stdout"
        }
      ]
    },
    {
      "cell_type": "code",
      "metadata": {
        "id": "2qnyimYBOoBQ",
        "colab_type": "code",
        "colab": {}
      },
      "source": [
        "Overalldf = pd.DataFrame({\n",
        "    '1.0': [210232],\n",
        "    '2.0': [120994],\n",
        "    '3.0': [198200],\n",
        "    '4.0': [361840],\n",
        "    '5.0': [1984651]})"
      ],
      "execution_count": 0,
      "outputs": []
    },
    {
      "cell_type": "code",
      "metadata": {
        "id": "OIXtE7y7PIzt",
        "colab_type": "code",
        "outputId": "45fd5de6-7850-4e0e-8bbc-eea7f695804d",
        "colab": {
          "base_uri": "https://localhost:8080/",
          "height": 293
        }
      },
      "source": [
        "Overalldf.plot(kind='bar')\n",
        "plt.xlabel('Overall')\n",
        "plt.ylabel('Count')"
      ],
      "execution_count": 0,
      "outputs": [
        {
          "output_type": "execute_result",
          "data": {
            "text/plain": [
              "Text(0, 0.5, 'Count')"
            ]
          },
          "metadata": {
            "tags": []
          },
          "execution_count": 17
        },
        {
          "output_type": "display_data",
          "data": {
            "image/png": "[encoded data removed]",
            "text/plain": [
              "<Figure size 432x288 with 1 Axes>"
            ]
          },
          "metadata": {
            "tags": []
          }
        }
      ]
    },
    {
      "cell_type": "markdown",
      "metadata": {
        "id": "1fhC76RfPhQ-",
        "colab_type": "text"
      },
      "source": [
        "**2.Getting the count of most common words**\n",
        "\n",
        "\n"
      ]
    },
    {
      "cell_type": "code",
      "metadata": {
        "id": "VOARs7tOPjjs",
        "colab_type": "code",
        "outputId": "3e373670-bc43-4c02-a58d-7977ec46e585",
        "colab": {
          "base_uri": "https://localhost:8080/",
          "height": 454
        }
      },
      "source": [
        "AllReviews = data.select(concat(data.reviewText).alias('word'))\n",
        "AllReviews.show()"
      ],
      "execution_count": 0,
      "outputs": [
        {
          "output_type": "stream",
          "text": [
            "+--------------------+\n",
            "|                word|\n",
            "+--------------------+\n",
            "|I've read this bo...|\n",
            "|Nicely written di...|\n",
            "|             love it|\n",
            "|Good additional k...|\n",
            "|A gazillion patte...|\n",
            "|Just ok. Read bet...|\n",
            "|The best knitting...|\n",
            "|This book is a mo...|\n",
            "|excellent variety...|\n",
            "|Another winner M....|\n",
            "|Love all the patt...|\n",
            "|Good selection of...|\n",
            "|Contains some int...|\n",
            "|Super useful for ...|\n",
            "|Loved it. Differe...|\n",
            "|I love the book b...|\n",
            "|Awesome book!!! A...|\n",
            "|   Lots of stitches.|\n",
            "|Easy to follow al...|\n",
            "|I'm a fairly expe...|\n",
            "+--------------------+\n",
            "only showing top 20 rows\n",
            "\n"
          ],
          "name": "stdout"
        }
      ]
    },
    {
      "cell_type": "code",
      "metadata": {
        "id": "uCqwjUauP5z9",
        "colab_type": "code",
        "colab": {}
      },
      "source": [
        ""
      ],
      "execution_count": 0,
      "outputs": []
    },
    {
      "cell_type": "markdown",
      "metadata": {
        "id": "dxazufU4QJaF",
        "colab_type": "text"
      },
      "source": [
        "a.Splitting the sentences into words"
      ]
    },
    {
      "cell_type": "code",
      "metadata": {
        "id": "MyEQFFD2QOXF",
        "colab_type": "code",
        "outputId": "11de29c4-43b8-4f4e-b547-d457c372db19",
        "colab": {
          "base_uri": "https://localhost:8080/",
          "height": 470
        }
      },
      "source": [
        "from pyspark.sql.functions import split, explode\n",
        "AllWordsDF = (data\n",
        "                .select(explode(split('reviewText',' ')).alias('word')).where(length('word')>0))\n",
        "\n",
        "AllWordsDF.show()\n",
        "shakeWordsDFCount = AllWordsDF.count()\n",
        "print(shakeWordsDFCount)"
      ],
      "execution_count": 0,
      "outputs": [
        {
          "output_type": "stream",
          "text": [
            "+---------+\n",
            "|     word|\n",
            "+---------+\n",
            "|     I've|\n",
            "|     read|\n",
            "|     this|\n",
            "|     book|\n",
            "|  already|\n",
            "|      and|\n",
            "|     I've|\n",
            "|      got|\n",
            "|    plans|\n",
            "|      for|\n",
            "|    using|\n",
            "|       it|\n",
            "|       in|\n",
            "|   future|\n",
            "|projects.|\n",
            "|      I'm|\n",
            "|DELIGHTED|\n",
            "|     with|\n",
            "|      the|\n",
            "| patterns|\n",
            "+---------+\n",
            "only showing top 20 rows\n",
            "\n",
            "82453141\n"
          ],
          "name": "stdout"
        }
      ]
    },
    {
      "cell_type": "code",
      "metadata": {
        "id": "vLsgJc18QZna",
        "colab_type": "code",
        "outputId": "2bf645a2-bb3b-482e-f657-b0617da1ca90",
        "colab": {
          "base_uri": "https://localhost:8080/",
          "height": 454
        }
      },
      "source": [
        "def wordCount(wordListDF):\n",
        "    \n",
        "    return wordListDF.groupBy('word').count()\n",
        "\n",
        "wordCount(AllWordsDF).show()"
      ],
      "execution_count": 0,
      "outputs": [
        {
          "output_type": "stream",
          "text": [
            "+--------------+------+\n",
            "|          word| count|\n",
            "+--------------+------+\n",
            "|          some|150323|\n",
            "|         those| 29757|\n",
            "|           few| 63803|\n",
            "|     involving|   265|\n",
            "|    creativity|   817|\n",
            "|     recognize|   363|\n",
            "|      Previous|    99|\n",
            "|            By|  2630|\n",
            "|        hobby,|   381|\n",
            "|           art| 30993|\n",
            "|     traveling|  1884|\n",
            "|        online|  8651|\n",
            "|        travel|  7480|\n",
            "|         still| 72752|\n",
            "|illustrations,|    61|\n",
            "|          hope| 10713|\n",
            "|        harder|  4910|\n",
            "|      cleanly,|   330|\n",
            "|      everyday|  2954|\n",
            "|       shares.|     5|\n",
            "+--------------+------+\n",
            "only showing top 20 rows\n",
            "\n"
          ],
          "name": "stdout"
        }
      ]
    },
    {
      "cell_type": "code",
      "metadata": {
        "id": "_dO3LBGGQ3zt",
        "colab_type": "code",
        "outputId": "0cfc5375-3332-48f5-d2c5-f27ccaf61718",
        "colab": {
          "base_uri": "https://localhost:8080/",
          "height": 454
        }
      },
      "source": [
        "from pyspark.sql.functions import desc\n",
        "topWordsAndCountsDF = wordCount(AllWordsDF).orderBy('count',ascending=False)\n",
        "topWordsAndCountsDF.show()"
      ],
      "execution_count": 0,
      "outputs": [
        {
          "output_type": "stream",
          "text": [
            "+----+-------+\n",
            "|word|  count|\n",
            "+----+-------+\n",
            "| the|3033099|\n",
            "|   I|2782401|\n",
            "| and|2293624|\n",
            "|  to|2171776|\n",
            "|   a|1941199|\n",
            "| for|1374924|\n",
            "|  it|1308956|\n",
            "|  of|1148370|\n",
            "|  is|1084258|\n",
            "|  my| 833512|\n",
            "|this| 825819|\n",
            "|  in| 733414|\n",
            "|with| 727151|\n",
            "| was| 684681|\n",
            "| are| 651131|\n",
            "|  on| 631537|\n",
            "| but| 597462|\n",
            "|that| 593801|\n",
            "|have| 554748|\n",
            "| not| 518515|\n",
            "+----+-------+\n",
            "only showing top 20 rows\n",
            "\n"
          ],
          "name": "stdout"
        }
      ]
    },
    {
      "cell_type": "markdown",
      "metadata": {
        "id": "lkurp-xgTzGW",
        "colab_type": "text"
      },
      "source": [
        "**3.Categorizing the length of reviews**"
      ]
    },
    {
      "cell_type": "markdown",
      "metadata": {
        "id": "xBV6GSCyirqU",
        "colab_type": "text"
      },
      "source": [
        "In this section we will consider the average length of words to be our threshold, and the length above the average would be labeled as long and below average will be labeled as short"
      ]
    },
    {
      "cell_type": "code",
      "metadata": {
        "id": "KzsG7hTpTPpK",
        "colab_type": "code",
        "outputId": "d37bcb06-723c-4111-895b-65908e293e8a",
        "colab": {
          "base_uri": "https://localhost:8080/",
          "height": 454
        }
      },
      "source": [
        "ReviewLengthsDF = AllReviews.select(length('word').alias('length'))\n",
        "ReviewLengthsDF.show()"
      ],
      "execution_count": 0,
      "outputs": [
        {
          "output_type": "stream",
          "text": [
            "+------+\n",
            "|length|\n",
            "+------+\n",
            "|   408|\n",
            "|    26|\n",
            "|     7|\n",
            "|   236|\n",
            "|   337|\n",
            "|    32|\n",
            "|   118|\n",
            "|   196|\n",
            "|    37|\n",
            "|    25|\n",
            "|    75|\n",
            "|   148|\n",
            "|    35|\n",
            "|   178|\n",
            "|    43|\n",
            "|    60|\n",
            "|    28|\n",
            "|    17|\n",
            "|    98|\n",
            "|  2221|\n",
            "+------+\n",
            "only showing top 20 rows\n",
            "\n"
          ],
          "name": "stdout"
        }
      ]
    },
    {
      "cell_type": "code",
      "metadata": {
        "id": "WiiJtLwNUTgc",
        "colab_type": "code",
        "outputId": "ceb009ed-784a-4901-807e-f8e973bde1e7",
        "colab": {
          "base_uri": "https://localhost:8080/",
          "height": 118
        }
      },
      "source": [
        "mean_length=ReviewLengthsDF.select(mean('length')).show()"
      ],
      "execution_count": 0,
      "outputs": [
        {
          "output_type": "stream",
          "text": [
            "+----------------+\n",
            "|     avg(length)|\n",
            "+----------------+\n",
            "|154.263091953851|\n",
            "+----------------+\n",
            "\n"
          ],
          "name": "stdout"
        }
      ]
    },
    {
      "cell_type": "code",
      "metadata": {
        "id": "F85H4OSGUl2k",
        "colab_type": "code",
        "outputId": "b049a337-2ddc-4d54-ad32-95aabc36b45a",
        "colab": {
          "base_uri": "https://localhost:8080/",
          "height": 706
        }
      },
      "source": [
        "DataCategory = ReviewLengthsDF.withColumn(\"length\", when(ReviewLengthsDF.length > 154.263091953851,\n",
        "                                  \"Long\").otherwise(\"Short\"))\n",
        "DataCategory.show(35)"
      ],
      "execution_count": 0,
      "outputs": [
        {
          "output_type": "stream",
          "text": [
            "+------+\n",
            "|length|\n",
            "+------+\n",
            "|  Long|\n",
            "| Short|\n",
            "| Short|\n",
            "|  Long|\n",
            "|  Long|\n",
            "| Short|\n",
            "| Short|\n",
            "|  Long|\n",
            "| Short|\n",
            "| Short|\n",
            "| Short|\n",
            "| Short|\n",
            "| Short|\n",
            "|  Long|\n",
            "| Short|\n",
            "| Short|\n",
            "| Short|\n",
            "| Short|\n",
            "| Short|\n",
            "|  Long|\n",
            "| Short|\n",
            "|  Long|\n",
            "| Short|\n",
            "|  Long|\n",
            "|  Long|\n",
            "| Short|\n",
            "| Short|\n",
            "| Short|\n",
            "| Short|\n",
            "| Short|\n",
            "| Short|\n",
            "| Short|\n",
            "|  Long|\n",
            "|  Long|\n",
            "|  Long|\n",
            "+------+\n",
            "only showing top 35 rows\n",
            "\n"
          ],
          "name": "stdout"
        }
      ]
    },
    {
      "cell_type": "code",
      "metadata": {
        "id": "N-BG5IEOU8nJ",
        "colab_type": "code",
        "outputId": "51279c7c-31c5-4294-9ebe-6b67cf36bb3e",
        "colab": {
          "base_uri": "https://localhost:8080/",
          "height": 134
        }
      },
      "source": [
        "CategoryDF=DataCategory.groupBy('length').count()\n",
        "CategoryDF.show()\n"
      ],
      "execution_count": 0,
      "outputs": [
        {
          "output_type": "stream",
          "text": [
            "+------+-------+\n",
            "|length|  count|\n",
            "+------+-------+\n",
            "|  Long| 853416|\n",
            "| Short|2022501|\n",
            "+------+-------+\n",
            "\n"
          ],
          "name": "stdout"
        }
      ]
    },
    {
      "cell_type": "code",
      "metadata": {
        "id": "tbq1owuvVsyG",
        "colab_type": "code",
        "colab": {}
      },
      "source": [
        "CategoryDF1= pd.DataFrame({\n",
        "    'Short': [2022501],\n",
        "    'Long': [853416],})"
      ],
      "execution_count": 0,
      "outputs": []
    },
    {
      "cell_type": "markdown",
      "metadata": {
        "id": "ZHJMBU7JjSNS",
        "colab_type": "text"
      },
      "source": [
        "Here we see in the graph, we have more than 70% of the data have length of words shorter than the average length"
      ]
    },
    {
      "cell_type": "code",
      "metadata": {
        "id": "0RLOFWbAVc8i",
        "colab_type": "code",
        "outputId": "6500af07-adba-4529-c687-3d044bfc3365",
        "colab": {
          "base_uri": "https://localhost:8080/",
          "height": 293
        }
      },
      "source": [
        "CategoryDF1.plot(kind='bar')\n",
        "plt.xlabel('Type')\n",
        "plt.ylabel('Count')"
      ],
      "execution_count": 0,
      "outputs": [
        {
          "output_type": "execute_result",
          "data": {
            "text/plain": [
              "Text(0, 0.5, 'Count')"
            ]
          },
          "metadata": {
            "tags": []
          },
          "execution_count": 32
        },
        {
          "output_type": "display_data",
          "data": {
            "image/png": "[encoded data removed]",
            "text/plain": [
              "<Figure size 432x288 with 1 Axes>"
            ]
          },
          "metadata": {
            "tags": []
          }
        }
      ]
    },
    {
      "cell_type": "code",
      "metadata": {
        "id": "ZqEjX6p2Vj7M",
        "colab_type": "code",
        "colab": {}
      },
      "source": [
        ""
      ],
      "execution_count": 0,
      "outputs": []
    }
  ]
}