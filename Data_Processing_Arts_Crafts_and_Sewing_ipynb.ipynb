{
  "nbformat": 4,
  "nbformat_minor": 0,
  "metadata": {
    "colab": {
      "name": " Data Processing Arts_Crafts_and_Sewing.ipynb.ipynb",
      "provenance": [],
      "collapsed_sections": []
    },
    "kernelspec": {
      "name": "python3",
      "display_name": "Python 3"
    }
  },
  "cells": [
    {
      "cell_type": "code",
      "metadata": {
        "id": "JEv78Pkp8BEI",
        "colab_type": "code",
        "colab": {}
      },
      "source": [
        "!apt-get install openjdk-8-jdk-headless -qq > /dev/null\n",
        "!wget -q https://www-us.apache.org/dist/spark/spark-2.4.5/spark-2.4.5-bin-hadoop2.7.tgz\n",
        "!tar xf spark-2.4.5-bin-hadoop2.7.tgz\n",
        "!pip install -q findspark\n"
      ],
      "execution_count": 0,
      "outputs": []
    },
    {
      "cell_type": "code",
      "metadata": {
        "id": "CVV2AfQK7rW7",
        "colab_type": "code",
        "colab": {}
      },
      "source": [
        "import os\n",
        "os.environ[\"JAVA_HOME\"] = \"/usr/lib/jvm/java-8-openjdk-amd64\"\n",
        "os.environ[\"SPARK_HOME\"] = \"/content/spark-2.4.5-bin-hadoop2.7\"\n"
      ],
      "execution_count": 0,
      "outputs": []
    },
    {
      "cell_type": "code",
      "metadata": {
        "id": "Glac4taD77C-",
        "colab_type": "code",
        "outputId": "ed8d723f-146c-40c8-f56b-90549ea87ad7",
        "colab": {
          "base_uri": "https://localhost:8080/",
          "height": 302
        }
      },
      "source": [
        "\n",
        "! wget -p data/ http://deepyeti.ucsd.edu/jianmo/amazon/categoryFiles/Arts_Crafts_and_Sewing.json.gz"
      ],
      "execution_count": 3,
      "outputs": [
        {
          "output_type": "stream",
          "text": [
            "--2020-02-25 17:06:08--  http://data/\n",
            "Resolving data (data)... failed: No address associated with hostname.\n",
            "wget: unable to resolve host address ‘data’\n",
            "--2020-02-25 17:06:08--  http://deepyeti.ucsd.edu/jianmo/amazon/categoryFiles/Arts_Crafts_and_Sewing.json.gz\n",
            "Resolving deepyeti.ucsd.edu (deepyeti.ucsd.edu)... 169.228.63.50\n",
            "Connecting to deepyeti.ucsd.edu (deepyeti.ucsd.edu)|169.228.63.50|:80... connected.\n",
            "HTTP request sent, awaiting response... 200 OK\n",
            "Length: 306424435 (292M) [application/octet-stream]\n",
            "Saving to: ‘deepyeti.ucsd.edu/jianmo/amazon/categoryFiles/Arts_Crafts_and_Sewing.json.gz’\n",
            "\n",
            "deepyeti.ucsd.edu/j 100%[===================>] 292.23M  11.0MB/s    in 28s     \n",
            "\n",
            "2020-02-25 17:06:36 (10.5 MB/s) - ‘deepyeti.ucsd.edu/jianmo/amazon/categoryFiles/Arts_Crafts_and_Sewing.json.gz’ saved [306424435/306424435]\n",
            "\n",
            "FINISHED --2020-02-25 17:06:36--\n",
            "Total wall clock time: 29s\n",
            "Downloaded: 1 files, 292M in 28s (10.5 MB/s)\n"
          ],
          "name": "stdout"
        }
      ]
    },
    {
      "cell_type": "code",
      "metadata": {
        "id": "HN61Y8Al8KhB",
        "colab_type": "code",
        "outputId": "d413addf-6a6c-4867-ac27-482c49b86b93",
        "colab": {
          "base_uri": "https://localhost:8080/",
          "height": 121
        }
      },
      "source": [
        "from google.colab import drive\n",
        "drive.mount('/content/drive')\n"
      ],
      "execution_count": 4,
      "outputs": [
        {
          "output_type": "stream",
          "text": [
            "Go to this URL in a browser: https://accounts.google.com/o/oauth2/auth?client_id=947318989803-6bn6qk8qdgf4n4g3pfee6491hc0brc4i.apps.googleusercontent.com&redirect_uri=urn%3aietf%3awg%3aoauth%3a2.0%3aoob&response_type=code&scope=email%20https%3a%2f%2fwww.googleapis.com%2fauth%2fdocs.test%20https%3a%2f%2fwww.googleapis.com%2fauth%2fdrive%20https%3a%2f%2fwww.googleapis.com%2fauth%2fdrive.photos.readonly%20https%3a%2f%2fwww.googleapis.com%2fauth%2fpeopleapi.readonly\n",
            "\n",
            "Enter your authorization code:\n",
            "··········\n",
            "Mounted at /content/drive\n"
          ],
          "name": "stdout"
        }
      ]
    },
    {
      "cell_type": "code",
      "metadata": {
        "id": "LFyXbusN8YcM",
        "colab_type": "code",
        "outputId": "4f8ebeb8-998d-4a3b-a7f3-137c01c18282",
        "colab": {
          "base_uri": "https://localhost:8080/",
          "height": 235
        }
      },
      "source": [
        "pip install pyspark\n"
      ],
      "execution_count": 5,
      "outputs": [
        {
          "output_type": "stream",
          "text": [
            "Collecting pyspark\n",
            "\u001b[?25l  Downloading https://files.pythonhosted.org/packages/9a/5a/271c416c1c2185b6cb0151b29a91fff6fcaed80173c8584ff6d20e46b465/pyspark-2.4.5.tar.gz (217.8MB)\n",
            "\u001b[K     |████████████████████████████████| 217.8MB 56kB/s \n",
            "\u001b[?25hCollecting py4j==0.10.7\n",
            "\u001b[?25l  Downloading https://files.pythonhosted.org/packages/e3/53/c737818eb9a7dc32a7cd4f1396e787bd94200c3997c72c1dbe028587bd76/py4j-0.10.7-py2.py3-none-any.whl (197kB)\n",
            "\u001b[K     |████████████████████████████████| 204kB 45.6MB/s \n",
            "\u001b[?25hBuilding wheels for collected packages: pyspark\n",
            "  Building wheel for pyspark (setup.py) ... \u001b[?25l\u001b[?25hdone\n",
            "  Created wheel for pyspark: filename=pyspark-2.4.5-py2.py3-none-any.whl size=218257927 sha256=c429038e3ce5fba5935016b53a623e33bf5f1a38bccb6412119347620c2b260f\n",
            "  Stored in directory: /root/.cache/pip/wheels/bf/db/04/61d66a5939364e756eb1c1be4ec5bdce6e04047fc7929a3c3c\n",
            "Successfully built pyspark\n",
            "Installing collected packages: py4j, pyspark\n",
            "Successfully installed py4j-0.10.7 pyspark-2.4.5\n"
          ],
          "name": "stdout"
        }
      ]
    },
    {
      "cell_type": "code",
      "metadata": {
        "id": "V77jYqHw8xAk",
        "colab_type": "code",
        "colab": {}
      },
      "source": [
        "from pyspark.sql import SparkSession\n",
        "from pyspark.ml.feature import Tokenizer, StopWordsRemover\n",
        "from pyspark.sql.functions import *\n",
        "import matplotlib.pyplot as plt\n",
        "import seaborn as sns\n",
        "import pandas as pd\n"
      ],
      "execution_count": 0,
      "outputs": []
    },
    {
      "cell_type": "code",
      "metadata": {
        "id": "Pk2biocM89aQ",
        "colab_type": "code",
        "colab": {}
      },
      "source": [
        "APP_NAME = \"Exploratory_Data_Analysis\"\n",
        "SPARK_URL = \"local[*]\"\n"
      ],
      "execution_count": 0,
      "outputs": []
    },
    {
      "cell_type": "code",
      "metadata": {
        "id": "4jykPw-L9H5_",
        "colab_type": "code",
        "colab": {}
      },
      "source": [
        "spark = SparkSession.builder.appName(APP_NAME).master(SPARK_URL).getOrCreate()"
      ],
      "execution_count": 0,
      "outputs": []
    },
    {
      "cell_type": "code",
      "metadata": {
        "id": "B-bLH4Wa0Ur7",
        "colab_type": "code",
        "colab": {}
      },
      "source": [
        ""
      ],
      "execution_count": 0,
      "outputs": []
    },
    {
      "cell_type": "code",
      "metadata": {
        "id": "rBvIeYsn9L72",
        "colab_type": "code",
        "colab": {}
      },
      "source": [
        "data = spark.read.json('/content/drive/My Drive/Arts_Crafts_and_Sewing.json.gz') \n"
      ],
      "execution_count": 0,
      "outputs": []
    },
    {
      "cell_type": "code",
      "metadata": {
        "id": "j2j-5YqD_dKm",
        "colab_type": "code",
        "outputId": "90590f96-76c1-43b1-8b82-f5f1fc316678",
        "colab": {
          "base_uri": "https://localhost:8080/",
          "height": 218
        }
      },
      "source": [
        "data.columns"
      ],
      "execution_count": 10,
      "outputs": [
        {
          "output_type": "execute_result",
          "data": {
            "text/plain": [
              "['asin',\n",
              " 'image',\n",
              " 'overall',\n",
              " 'reviewText',\n",
              " 'reviewTime',\n",
              " 'reviewerID',\n",
              " 'reviewerName',\n",
              " 'style',\n",
              " 'summary',\n",
              " 'unixReviewTime',\n",
              " 'verified',\n",
              " 'vote']"
            ]
          },
          "metadata": {
            "tags": []
          },
          "execution_count": 10
        }
      ]
    },
    {
      "cell_type": "code",
      "metadata": {
        "id": "wEYyOnCyAfJp",
        "colab_type": "code",
        "outputId": "8d37c964-de8f-423a-9cbc-e6da9f1f7581",
        "colab": {
          "base_uri": "https://localhost:8080/",
          "height": 454
        }
      },
      "source": [
        "data.show()\n"
      ],
      "execution_count": 11,
      "outputs": [
        {
          "output_type": "stream",
          "text": [
            "+----------+-----+-------+--------------------+-----------+--------------+--------------------+--------------------+--------------------+--------------+--------+----+\n",
            "|      asin|image|overall|          reviewText| reviewTime|    reviewerID|        reviewerName|               style|             summary|unixReviewTime|verified|vote|\n",
            "+----------+-----+-------+--------------------+-----------+--------------+--------------------+--------------------+--------------------+--------------+--------+----+\n",
            "|0449819906| null|    5.0|I've read this bo...| 11 6, 2013|A3U4E9PIZ8OWH1|      Shirley Curtis|[,,,,,,  Kindle E...|   A  WONDERFUL BOOK|    1383696000|    true|   4|\n",
            "|0449819906| null|    5.0|Nicely written di...|02 28, 2017|A3945D2TJ0PI86|            M. Smith|[,,,,,,  Kindle E...|                Nice|    1488240000|    true|null|\n",
            "|0449819906| null|    5.0|             love it|02 25, 2017|A2WZK72HLQ7SPT|     Amazon Customer|[,,,,,,  Paperbac...|          Five Stars|    1487980800|    true|null|\n",
            "|0449819906| null|    5.0|Good additional k...|01 25, 2017|A1Q7YJ1NPE6E0W|           MargaretT|[,,,,,,  Kindle E...|Good Reference in...|    1485302400|    true|null|\n",
            "|0449819906| null|    5.0|A gazillion patte...|01 12, 2017|A2846L8Q507JC4|               Dulce|[,,,,,,  Kindle E...|Extremely clear, ...|    1484179200|    true|null|\n",
            "|0449819906| null|    2.0|Just ok. Read bet...| 01 6, 2017|A3V21ZT37Y242L|      Sheila Fenchak|[,,,,,,  Kindle E...|             Just ok|    1483660800|    true|null|\n",
            "|0449819906| null|    5.0|The best knitting...|12 23, 2016| A1GJKG5OAQQ69|     Kindle Customer|[,,,,,,  Kindle E...|Thank you for the...|    1482451200|    true|null|\n",
            "|0449819906| null|    5.0|This book is a mo...|11 29, 2016|A1IQJ7PGO9I4MI|                 GPS|[,,,,,,  Kindle E...|         Magnificent|    1480377600|    true|null|\n",
            "|0449819906| null|    5.0|excellent variety...|11 11, 2016| AW3AYN77DSEA4|           Foxy lady|[,,,,,,  Paperbac...|          Five Stars|    1478822400|    true|null|\n",
            "|0449819906| null|    5.0|Another winner M....|09 30, 2016|A3AJK82I35MLKA|     Kindle Customer|[,,,,,,  Paperbac...|         A must have|    1475193600|    true|null|\n",
            "|0449819906| null|    5.0|Love all the patt...| 09 1, 2016|A2NWPBTQCH93RJ|              Cookie|[,,,,,,  Paperbac...|          Five Stars|    1472688000|    true|null|\n",
            "|0449819906| null|    4.0|Good selection of...|07 25, 2016|A3GMRNJMCK3R6H|      Samantha Byrne|[,,,,,,  Kindle E...|A good reference ...|    1469404800|    true|null|\n",
            "|0449819906| null|    4.0|Contains some int...|03 29, 2016| AIE8N9U317ZBM|      Zelmira, Ph.D.|[,,,,,,  Kindle E...|          Four Stars|    1459209600|    true|null|\n",
            "|0449819906| null|    5.0|Super useful for ...|03 28, 2016|A12G7GGJUQKOAQ|             anyeone|[,,,,,,  Paperbac...|Super useful for ...|    1459123200|    true|null|\n",
            "|0449819906| null|    5.0|Loved it. Differe...|03 15, 2016|A12E8CPGM3RWT4|               Carol|[,,,,,,  Kindle E...|          Five Stars|    1458000000|   false|null|\n",
            "|0449819906| null|    5.0|I love the book b...| 02 5, 2016|A2ZZ00XL211U04|     Amazon Customer|[,,,,,,  Paperbac...|          Five Stars|    1454630400|    true|null|\n",
            "|0449819906| null|    5.0|Awesome book!!! A...|01 13, 2016| AXGEBLSL08ZPC|          ahayes7349|[,,,,,,  Paperbac...|          Five Stars|    1452643200|    true|null|\n",
            "|0449819906| null|    5.0|   Lots of stitches.| 11 9, 2015|A361X72MFHNSX5|      Sharlot Grehem|[,,,,,,  Kindle E...|   Knitting stitches|    1447027200|    true|null|\n",
            "|0449819906| null|    5.0|Easy to follow al...| 11 4, 2015|A2QG1KI2V93K3Q|       Mark Grantham|[,,,,,,  Paperbac...|          Five Stars|    1446595200|    true|null|\n",
            "|0449819906| null|    5.0|I'm a fairly expe...|08 12, 2015|A3ECOW0TWLH9V6|Dangerous when Co...|[,,,,,,  Paperbac...|My current favori...|    1439337600|    true|  18|\n",
            "+----------+-----+-------+--------------------+-----------+--------------+--------------------+--------------------+--------------------+--------------+--------+----+\n",
            "only showing top 20 rows\n",
            "\n"
          ],
          "name": "stdout"
        }
      ]
    },
    {
      "cell_type": "code",
      "metadata": {
        "id": "ifuhpbyUAly2",
        "colab_type": "code",
        "outputId": "c5b1cbb3-678e-44a7-b0a0-ced6f40e891d",
        "colab": {
          "base_uri": "https://localhost:8080/",
          "height": 756
        }
      },
      "source": [
        "data.printSchema()"
      ],
      "execution_count": 12,
      "outputs": [
        {
          "output_type": "stream",
          "text": [
            "root\n",
            " |-- asin: string (nullable = true)\n",
            " |-- image: array (nullable = true)\n",
            " |    |-- element: string (containsNull = true)\n",
            " |-- overall: double (nullable = true)\n",
            " |-- reviewText: string (nullable = true)\n",
            " |-- reviewTime: string (nullable = true)\n",
            " |-- reviewerID: string (nullable = true)\n",
            " |-- reviewerName: string (nullable = true)\n",
            " |-- style: struct (nullable = true)\n",
            " |    |-- Color Name:: string (nullable = true)\n",
            " |    |-- Color:: string (nullable = true)\n",
            " |    |-- Design:: string (nullable = true)\n",
            " |    |-- Display Height:: string (nullable = true)\n",
            " |    |-- Edition:: string (nullable = true)\n",
            " |    |-- Flavor:: string (nullable = true)\n",
            " |    |-- Format:: string (nullable = true)\n",
            " |    |-- Item Display Length:: string (nullable = true)\n",
            " |    |-- Item Display Weight:: string (nullable = true)\n",
            " |    |-- Item Package Quantity:: string (nullable = true)\n",
            " |    |-- Length:: string (nullable = true)\n",
            " |    |-- Material Type:: string (nullable = true)\n",
            " |    |-- Material:: string (nullable = true)\n",
            " |    |-- Metal Type:: string (nullable = true)\n",
            " |    |-- Number of Items:: string (nullable = true)\n",
            " |    |-- Overall Length:: string (nullable = true)\n",
            " |    |-- Package Quantity:: string (nullable = true)\n",
            " |    |-- Package Type:: string (nullable = true)\n",
            " |    |-- Pattern:: string (nullable = true)\n",
            " |    |-- Product Packaging:: string (nullable = true)\n",
            " |    |-- Scent Name:: string (nullable = true)\n",
            " |    |-- Scent:: string (nullable = true)\n",
            " |    |-- Shape:: string (nullable = true)\n",
            " |    |-- Size Name:: string (nullable = true)\n",
            " |    |-- Size:: string (nullable = true)\n",
            " |    |-- Style Name:: string (nullable = true)\n",
            " |    |-- Style:: string (nullable = true)\n",
            " |    |-- Team Name:: string (nullable = true)\n",
            " |    |-- style name:: string (nullable = true)\n",
            " |-- summary: string (nullable = true)\n",
            " |-- unixReviewTime: long (nullable = true)\n",
            " |-- verified: boolean (nullable = true)\n",
            " |-- vote: string (nullable = true)\n",
            "\n"
          ],
          "name": "stdout"
        }
      ]
    },
    {
      "cell_type": "code",
      "metadata": {
        "id": "zfwkO5MJEwZH",
        "colab_type": "code",
        "outputId": "7b20975d-e45a-4aae-8945-12818f678585",
        "colab": {
          "base_uri": "https://localhost:8080/",
          "height": 454
        }
      },
      "source": [
        "data.filter(\" summary is null\").show()"
      ],
      "execution_count": 13,
      "outputs": [
        {
          "output_type": "stream",
          "text": [
            "+----------+--------------------+-------+--------------------+-----------+--------------+-------------------+--------------------+-------+--------------+--------+----+\n",
            "|      asin|               image|overall|          reviewText| reviewTime|    reviewerID|       reviewerName|               style|summary|unixReviewTime|verified|vote|\n",
            "+----------+--------------------+-------+--------------------+-----------+--------------+-------------------+--------------------+-------+--------------+--------+----+\n",
            "|B00004THXH|                null|    5.0|Just what I was l...|08 21, 2017|A2IHAQY2JV6WR7|                Pam|[,,,,,,,,,,,,,,,,...|   null|    1503273600|    true|null|\n",
            "|B00006IAHD|                null|    5.0|                null|04 20, 2017|A1ROVL4AWYM9D6|    Amazon Customer|[,  Silver,,,,,,,...|   null|    1492646400|   false|null|\n",
            "|B00006IAGW|                null|    5.0|Perfect! Used the...| 05 6, 2017| AV6UUM16WE8RE|             Amanda|                null|   null|    1494028800|    true|null|\n",
            "|B00006IC2T|                null|    5.0|  Works as intended.|05 20, 2016|A2HWP7F43XLNG7|           Jorge B.|[ Black,,,,,,,,,,...|   null|    1463702400|    true|null|\n",
            "|B00006IDY9|                null|    5.0|Paper worked grea...|01 23, 2017|A2QCPLBHH6GF9T|             Josiah|[,  Royal Blue,,,...|   null|    1485129600|    true|null|\n",
            "|B00006IFGJ|                null|    5.0|It arrived 3 days...| 10 1, 2016|A13KDZG6350VST|                Kay|[,  Assorted Colo...|   null|    1475280000|    true|null|\n",
            "|B00024JRK8|                null|    1.0|It actually puts ...|06 27, 2017| A729CKUWFLBHW|       Serena Smith|                null|   null|    1498521600|    true|null|\n",
            "|B0007D63NI|[https://images-n...|    4.0|Great kit. Really...|03 19, 2015|A1H9AHIC7W1PPZ|             Nicole|                null|   null|    1426723200|    true|   4|\n",
            "|B0007OEE9M|                null|    5.0|Nice set. The col...|07 31, 2015| ALUEP9UFXDQZF|          JuJuIsBad|[,,,,,,,,,,,,,,,,...|   null|    1438300800|    true|null|\n",
            "|B0007ZHGWI|                null|    5.0|This product is r...|06 23, 2016|A297CKO2XCKB7L|     Soua Kang Yang|                null|   null|    1466640000|    true|null|\n",
            "|B0009E34IW|                null|    5.0|Best embroidery t...|07 26, 2017| AMPB503RB3P37|               Alex|[,,,,,,,,,,,,,,,,...|   null|    1501027200|    true|null|\n",
            "|B000B7Q9FM|                null|    5.0|  Cute and well made|11 28, 2017|A24ZWV098N59GI|            Mariana|                null|   null|    1511827200|    true|null|\n",
            "|B000BGSZFU|                null|    5.0|Gorgeous amazing ...| 04 7, 2017|A1W9IBVCZBDMBW|Grandma and Grandpa|                null|   null|    1491523200|    true|   2|\n",
            "|B000BQKGR0|                null|    5.0|                null| 02 4, 2017|A1A3YAI2H1LB7N|      get it right!|[,,,,,,,,,,,,,,,,...|   null|    1486166400|    true|null|\n",
            "|B000BQKGR0|                null|    5.0|         Works great|04 21, 2016|A2NV09Q8UMQBRI|         Hoverlover|[,,,,,,,,,,,,,,,,...|   null|    1461196800|    true|null|\n",
            "|B000BQS3UW|                null|    4.0|Quality airbrush....|04 27, 2016|A2HBIQ3BLUER88|               Lori|                null|   null|    1461715200|    true|null|\n",
            "|B000BVN18Q|                null|    5.0|    They really work|11 27, 2014| A2VRWEM9DJ84M|              April|                null|   null|    1417046400|    true|null|\n",
            "|B000BY4Q5K|                null|    5.0|works up well, I ...|03 13, 2015|A3FMRC9C5YV5GT|               jeff|[,  Turquoise,,,,...|   null|    1426204800|    true|null|\n",
            "|B000C6RHBW|                null|    5.0|Product came swif...| 04 8, 2017|A2AOH2W1X5CXMD|    Amazon Customer|[,,,,,,,,,,,,,,,,...|   null|    1491609600|    true|null|\n",
            "|B000COQPSU|                null|    5.0|Beautiful can't w...| 03 1, 2017|A3W4TTSMTOTXH2|           Brittany|                null|   null|    1488326400|    true|null|\n",
            "+----------+--------------------+-------+--------------------+-----------+--------------+-------------------+--------------------+-------+--------------+--------+----+\n",
            "only showing top 20 rows\n",
            "\n"
          ],
          "name": "stdout"
        }
      ]
    },
    {
      "cell_type": "code",
      "metadata": {
        "id": "cv1TLqVDKvoN",
        "colab_type": "code",
        "outputId": "7efdf8b8-554d-42d9-f29a-7ffb7202c9ff",
        "colab": {
          "base_uri": "https://localhost:8080/",
          "height": 34
        }
      },
      "source": [
        "data.filter(\" summary is null\").count()"
      ],
      "execution_count": 14,
      "outputs": [
        {
          "output_type": "execute_result",
          "data": {
            "text/plain": [
              "957"
            ]
          },
          "metadata": {
            "tags": []
          },
          "execution_count": 14
        }
      ]
    },
    {
      "cell_type": "code",
      "metadata": {
        "id": "nf59XHsRL0CU",
        "colab_type": "code",
        "outputId": "b034a42a-1e1e-4a32-9a1a-9b80ea9bf2f5",
        "colab": {
          "base_uri": "https://localhost:8080/",
          "height": 34
        }
      },
      "source": [
        "data.filter(\" reviewText is null\").count()"
      ],
      "execution_count": 15,
      "outputs": [
        {
          "output_type": "execute_result",
          "data": {
            "text/plain": [
              "2530"
            ]
          },
          "metadata": {
            "tags": []
          },
          "execution_count": 15
        }
      ]
    },
    {
      "cell_type": "code",
      "metadata": {
        "id": "AWkDqhDnMqHo",
        "colab_type": "code",
        "outputId": "bbe4416c-aa7b-4ba9-918e-195ab10f76b7",
        "colab": {
          "base_uri": "https://localhost:8080/",
          "height": 34
        }
      },
      "source": [
        "data.count()"
      ],
      "execution_count": 16,
      "outputs": [
        {
          "output_type": "execute_result",
          "data": {
            "text/plain": [
              "2875917"
            ]
          },
          "metadata": {
            "tags": []
          },
          "execution_count": 16
        }
      ]
    },
    {
      "cell_type": "code",
      "metadata": {
        "id": "0BhFIZCZM1CW",
        "colab_type": "code",
        "outputId": "a76384e2-42f4-4639-80c6-4c5759915364",
        "colab": {
          "base_uri": "https://localhost:8080/",
          "height": 34
        }
      },
      "source": [
        "data.filter(\" reviewText is not null\").count()"
      ],
      "execution_count": 17,
      "outputs": [
        {
          "output_type": "execute_result",
          "data": {
            "text/plain": [
              "2873387"
            ]
          },
          "metadata": {
            "tags": []
          },
          "execution_count": 17
        }
      ]
    },
    {
      "cell_type": "markdown",
      "metadata": {
        "id": "cGUEsHRU2Bx9",
        "colab_type": "text"
      },
      "source": [
        "**Removing the Null ReviewText**"
      ]
    },
    {
      "cell_type": "code",
      "metadata": {
        "id": "TzYITw8osqOd",
        "colab_type": "code",
        "colab": {}
      },
      "source": [
        "NoNullData=data.dropna(thresh=None,subset=('reviewText'))"
      ],
      "execution_count": 0,
      "outputs": []
    },
    {
      "cell_type": "code",
      "metadata": {
        "id": "KKrkQYgysqIL",
        "colab_type": "code",
        "outputId": "da965db3-ad9a-409f-cbfc-8a1a049cc4c0",
        "colab": {
          "base_uri": "https://localhost:8080/",
          "height": 34
        }
      },
      "source": [
        "NoNullData.filter(\" reviewText is null\").count()"
      ],
      "execution_count": 19,
      "outputs": [
        {
          "output_type": "execute_result",
          "data": {
            "text/plain": [
              "0"
            ]
          },
          "metadata": {
            "tags": []
          },
          "execution_count": 19
        }
      ]
    },
    {
      "cell_type": "code",
      "metadata": {
        "id": "4B4GYsWh2NkW",
        "colab_type": "code",
        "outputId": "a3f0223f-b542-4fbe-e638-4e3134c29434",
        "colab": {
          "base_uri": "https://localhost:8080/",
          "height": 454
        }
      },
      "source": [
        "NoNullData.show()"
      ],
      "execution_count": 20,
      "outputs": [
        {
          "output_type": "stream",
          "text": [
            "+----------+-----+-------+--------------------+-----------+--------------+--------------------+--------------------+--------------------+--------------+--------+----+\n",
            "|      asin|image|overall|          reviewText| reviewTime|    reviewerID|        reviewerName|               style|             summary|unixReviewTime|verified|vote|\n",
            "+----------+-----+-------+--------------------+-----------+--------------+--------------------+--------------------+--------------------+--------------+--------+----+\n",
            "|0449819906| null|    5.0|I've read this bo...| 11 6, 2013|A3U4E9PIZ8OWH1|      Shirley Curtis|[,,,,,,  Kindle E...|   A  WONDERFUL BOOK|    1383696000|    true|   4|\n",
            "|0449819906| null|    5.0|Nicely written di...|02 28, 2017|A3945D2TJ0PI86|            M. Smith|[,,,,,,  Kindle E...|                Nice|    1488240000|    true|null|\n",
            "|0449819906| null|    5.0|             love it|02 25, 2017|A2WZK72HLQ7SPT|     Amazon Customer|[,,,,,,  Paperbac...|          Five Stars|    1487980800|    true|null|\n",
            "|0449819906| null|    5.0|Good additional k...|01 25, 2017|A1Q7YJ1NPE6E0W|           MargaretT|[,,,,,,  Kindle E...|Good Reference in...|    1485302400|    true|null|\n",
            "|0449819906| null|    5.0|A gazillion patte...|01 12, 2017|A2846L8Q507JC4|               Dulce|[,,,,,,  Kindle E...|Extremely clear, ...|    1484179200|    true|null|\n",
            "|0449819906| null|    2.0|Just ok. Read bet...| 01 6, 2017|A3V21ZT37Y242L|      Sheila Fenchak|[,,,,,,  Kindle E...|             Just ok|    1483660800|    true|null|\n",
            "|0449819906| null|    5.0|The best knitting...|12 23, 2016| A1GJKG5OAQQ69|     Kindle Customer|[,,,,,,  Kindle E...|Thank you for the...|    1482451200|    true|null|\n",
            "|0449819906| null|    5.0|This book is a mo...|11 29, 2016|A1IQJ7PGO9I4MI|                 GPS|[,,,,,,  Kindle E...|         Magnificent|    1480377600|    true|null|\n",
            "|0449819906| null|    5.0|excellent variety...|11 11, 2016| AW3AYN77DSEA4|           Foxy lady|[,,,,,,  Paperbac...|          Five Stars|    1478822400|    true|null|\n",
            "|0449819906| null|    5.0|Another winner M....|09 30, 2016|A3AJK82I35MLKA|     Kindle Customer|[,,,,,,  Paperbac...|         A must have|    1475193600|    true|null|\n",
            "|0449819906| null|    5.0|Love all the patt...| 09 1, 2016|A2NWPBTQCH93RJ|              Cookie|[,,,,,,  Paperbac...|          Five Stars|    1472688000|    true|null|\n",
            "|0449819906| null|    4.0|Good selection of...|07 25, 2016|A3GMRNJMCK3R6H|      Samantha Byrne|[,,,,,,  Kindle E...|A good reference ...|    1469404800|    true|null|\n",
            "|0449819906| null|    4.0|Contains some int...|03 29, 2016| AIE8N9U317ZBM|      Zelmira, Ph.D.|[,,,,,,  Kindle E...|          Four Stars|    1459209600|    true|null|\n",
            "|0449819906| null|    5.0|Super useful for ...|03 28, 2016|A12G7GGJUQKOAQ|             anyeone|[,,,,,,  Paperbac...|Super useful for ...|    1459123200|    true|null|\n",
            "|0449819906| null|    5.0|Loved it. Differe...|03 15, 2016|A12E8CPGM3RWT4|               Carol|[,,,,,,  Kindle E...|          Five Stars|    1458000000|   false|null|\n",
            "|0449819906| null|    5.0|I love the book b...| 02 5, 2016|A2ZZ00XL211U04|     Amazon Customer|[,,,,,,  Paperbac...|          Five Stars|    1454630400|    true|null|\n",
            "|0449819906| null|    5.0|Awesome book!!! A...|01 13, 2016| AXGEBLSL08ZPC|          ahayes7349|[,,,,,,  Paperbac...|          Five Stars|    1452643200|    true|null|\n",
            "|0449819906| null|    5.0|   Lots of stitches.| 11 9, 2015|A361X72MFHNSX5|      Sharlot Grehem|[,,,,,,  Kindle E...|   Knitting stitches|    1447027200|    true|null|\n",
            "|0449819906| null|    5.0|Easy to follow al...| 11 4, 2015|A2QG1KI2V93K3Q|       Mark Grantham|[,,,,,,  Paperbac...|          Five Stars|    1446595200|    true|null|\n",
            "|0449819906| null|    5.0|I'm a fairly expe...|08 12, 2015|A3ECOW0TWLH9V6|Dangerous when Co...|[,,,,,,  Paperbac...|My current favori...|    1439337600|    true|  18|\n",
            "+----------+-----+-------+--------------------+-----------+--------------+--------------------+--------------------+--------------------+--------------+--------+----+\n",
            "only showing top 20 rows\n",
            "\n"
          ],
          "name": "stdout"
        }
      ]
    },
    {
      "cell_type": "markdown",
      "metadata": {
        "id": "kOnyxd4N2dCu",
        "colab_type": "text"
      },
      "source": [
        "\n",
        "**Removing Punctuations and lowercasing**\n",
        "\n",
        "\n"
      ]
    },
    {
      "cell_type": "code",
      "metadata": {
        "id": "6kQiL6c12Wq6",
        "colab_type": "code",
        "colab": {}
      },
      "source": [
        "from pyspark.sql import SQLContext\n",
        "sqlContext = SQLContext"
      ],
      "execution_count": 0,
      "outputs": []
    },
    {
      "cell_type": "code",
      "metadata": {
        "id": "wfk8jfXjZsiw",
        "colab_type": "code",
        "colab": {}
      },
      "source": [
        "from pyspark.ml.feature import Tokenizer, RegexTokenizer\n",
        "from pyspark.sql.functions import col, udf\n",
        "from pyspark.sql.types import IntegerType\n"
      ],
      "execution_count": 0,
      "outputs": []
    },
    {
      "cell_type": "code",
      "metadata": {
        "id": "ZhyuEcg2u0uy",
        "colab_type": "code",
        "colab": {}
      },
      "source": [
        "data = data.select('overall', 'reviewText', 'verified')"
      ],
      "execution_count": 0,
      "outputs": []
    },
    {
      "cell_type": "code",
      "metadata": {
        "id": "iOMehrT8u11V",
        "colab_type": "code",
        "colab": {
          "base_uri": "https://localhost:8080/",
          "height": 454
        },
        "outputId": "285b8f50-873b-4b5c-83a2-ebd64cff442a"
      },
      "source": [
        "data.show()"
      ],
      "execution_count": 83,
      "outputs": [
        {
          "output_type": "stream",
          "text": [
            "+-------+--------------------+--------+\n",
            "|overall|          reviewText|verified|\n",
            "+-------+--------------------+--------+\n",
            "|    5.0|I've read this bo...|    true|\n",
            "|    5.0|Nicely written di...|    true|\n",
            "|    5.0|             love it|    true|\n",
            "|    5.0|Good additional k...|    true|\n",
            "|    5.0|A gazillion patte...|    true|\n",
            "|    2.0|Just ok. Read bet...|    true|\n",
            "|    5.0|The best knitting...|    true|\n",
            "|    5.0|This book is a mo...|    true|\n",
            "|    5.0|excellent variety...|    true|\n",
            "|    5.0|Another winner M....|    true|\n",
            "|    5.0|Love all the patt...|    true|\n",
            "|    4.0|Good selection of...|    true|\n",
            "|    4.0|Contains some int...|    true|\n",
            "|    5.0|Super useful for ...|    true|\n",
            "|    5.0|Loved it. Differe...|   false|\n",
            "|    5.0|I love the book b...|    true|\n",
            "|    5.0|Awesome book!!! A...|    true|\n",
            "|    5.0|   Lots of stitches.|    true|\n",
            "|    5.0|Easy to follow al...|    true|\n",
            "|    5.0|I'm a fairly expe...|    true|\n",
            "+-------+--------------------+--------+\n",
            "only showing top 20 rows\n",
            "\n"
          ],
          "name": "stdout"
        }
      ]
    },
    {
      "cell_type": "code",
      "metadata": {
        "id": "t8deHHrTu8fj",
        "colab_type": "code",
        "colab": {}
      },
      "source": [
        "data_clean = data"
      ],
      "execution_count": 0,
      "outputs": []
    },
    {
      "cell_type": "code",
      "metadata": {
        "id": "ul-SCIM4vLfV",
        "colab_type": "code",
        "colab": {
          "base_uri": "https://localhost:8080/",
          "height": 454
        },
        "outputId": "e7384199-0bdf-4791-fec7-f8dbf157f5f5"
      },
      "source": [
        "data_clean.show()"
      ],
      "execution_count": 85,
      "outputs": [
        {
          "output_type": "stream",
          "text": [
            "+-------+--------------------+--------+\n",
            "|overall|          reviewText|verified|\n",
            "+-------+--------------------+--------+\n",
            "|    5.0|I've read this bo...|    true|\n",
            "|    5.0|Nicely written di...|    true|\n",
            "|    5.0|             love it|    true|\n",
            "|    5.0|Good additional k...|    true|\n",
            "|    5.0|A gazillion patte...|    true|\n",
            "|    2.0|Just ok. Read bet...|    true|\n",
            "|    5.0|The best knitting...|    true|\n",
            "|    5.0|This book is a mo...|    true|\n",
            "|    5.0|excellent variety...|    true|\n",
            "|    5.0|Another winner M....|    true|\n",
            "|    5.0|Love all the patt...|    true|\n",
            "|    4.0|Good selection of...|    true|\n",
            "|    4.0|Contains some int...|    true|\n",
            "|    5.0|Super useful for ...|    true|\n",
            "|    5.0|Loved it. Differe...|   false|\n",
            "|    5.0|I love the book b...|    true|\n",
            "|    5.0|Awesome book!!! A...|    true|\n",
            "|    5.0|   Lots of stitches.|    true|\n",
            "|    5.0|Easy to follow al...|    true|\n",
            "|    5.0|I'm a fairly expe...|    true|\n",
            "+-------+--------------------+--------+\n",
            "only showing top 20 rows\n",
            "\n"
          ],
          "name": "stdout"
        }
      ]
    },
    {
      "cell_type": "markdown",
      "metadata": {
        "id": "pNeUkCQz2Uf1",
        "colab_type": "text"
      },
      "source": [
        "Finding Word Length in the document"
      ]
    },
    {
      "cell_type": "code",
      "metadata": {
        "id": "ZVORUD4WvbPc",
        "colab_type": "code",
        "colab": {}
      },
      "source": [
        "data_clean = data_clean.select(trim(lower(regexp_replace(col('reviewText'), '[^A-Za-z0-9 ]', ''))).alias('sentence'))"
      ],
      "execution_count": 0,
      "outputs": []
    },
    {
      "cell_type": "code",
      "metadata": {
        "id": "dRav_FkfvmfL",
        "colab_type": "code",
        "colab": {
          "base_uri": "https://localhost:8080/",
          "height": 454
        },
        "outputId": "c213eb11-2ed7-4334-ea27-55f1d7079d25"
      },
      "source": [
        "data_clean.show()"
      ],
      "execution_count": 87,
      "outputs": [
        {
          "output_type": "stream",
          "text": [
            "+--------------------+\n",
            "|            sentence|\n",
            "+--------------------+\n",
            "|ive read this boo...|\n",
            "|nicely written di...|\n",
            "|             love it|\n",
            "|good additional k...|\n",
            "|a gazillion patte...|\n",
            "|just ok read bett...|\n",
            "|the best knitting...|\n",
            "|this book is a mo...|\n",
            "|excellent variety...|\n",
            "|another winner m ...|\n",
            "|love all the patt...|\n",
            "|good selection of...|\n",
            "|contains some int...|\n",
            "|super useful for ...|\n",
            "|loved it differen...|\n",
            "|i love the book b...|\n",
            "|awesome book a mu...|\n",
            "|    lots of stitches|\n",
            "|easy to follow al...|\n",
            "|im a fairly exper...|\n",
            "+--------------------+\n",
            "only showing top 20 rows\n",
            "\n"
          ],
          "name": "stdout"
        }
      ]
    },
    {
      "cell_type": "code",
      "metadata": {
        "id": "KRsmS4Xjvp-C",
        "colab_type": "code",
        "colab": {}
      },
      "source": [
        "data_clean =data_clean.withColumn(\"Length\", size(split(data_clean['sentence'], ' ')))"
      ],
      "execution_count": 0,
      "outputs": []
    },
    {
      "cell_type": "code",
      "metadata": {
        "id": "BH-bz9gtv1b9",
        "colab_type": "code",
        "colab": {
          "base_uri": "https://localhost:8080/",
          "height": 454
        },
        "outputId": "b3ecc7f0-8d0e-4b67-872b-f0a0f2a42dd2"
      },
      "source": [
        "data_clean.show()"
      ],
      "execution_count": 89,
      "outputs": [
        {
          "output_type": "stream",
          "text": [
            "+--------------------+------+\n",
            "|            sentence|Length|\n",
            "+--------------------+------+\n",
            "|ive read this boo...|    76|\n",
            "|nicely written di...|     3|\n",
            "|             love it|     2|\n",
            "|good additional k...|    45|\n",
            "|a gazillion patte...|    53|\n",
            "|just ok read bett...|     6|\n",
            "|the best knitting...|    24|\n",
            "|this book is a mo...|    33|\n",
            "|excellent variety...|     5|\n",
            "|another winner m ...|     4|\n",
            "|love all the patt...|    16|\n",
            "|good selection of...|    27|\n",
            "|contains some int...|     4|\n",
            "|super useful for ...|    31|\n",
            "|loved it differen...|     7|\n",
            "|i love the book b...|    11|\n",
            "|awesome book a mu...|     5|\n",
            "|    lots of stitches|     3|\n",
            "|easy to follow al...|    17|\n",
            "|im a fairly exper...|   371|\n",
            "+--------------------+------+\n",
            "only showing top 20 rows\n",
            "\n"
          ],
          "name": "stdout"
        }
      ]
    },
    {
      "cell_type": "markdown",
      "metadata": {
        "id": "9FNfErJV2bxW",
        "colab_type": "text"
      },
      "source": [
        "**TOKENIZATION**"
      ]
    },
    {
      "cell_type": "code",
      "metadata": {
        "id": "c0XqpOvXwIGS",
        "colab_type": "code",
        "colab": {
          "base_uri": "https://localhost:8080/",
          "height": 202
        },
        "outputId": "2cffc27e-e9ef-4805-cf8f-a35072545379"
      },
      "source": [
        "tokenizer = Tokenizer(inputCol=\"sentence\", outputCol='tokens')\n",
        "data_tokens = tokenizer.transform(data_clean).select('tokens')\n",
        "data_tokens.show(5)"
      ],
      "execution_count": 90,
      "outputs": [
        {
          "output_type": "stream",
          "text": [
            "+--------------------+\n",
            "|              tokens|\n",
            "+--------------------+\n",
            "|[ive, read, this,...|\n",
            "|[nicely, written,...|\n",
            "|          [love, it]|\n",
            "|[good, additional...|\n",
            "|[a, gazillion, pa...|\n",
            "+--------------------+\n",
            "only showing top 5 rows\n",
            "\n"
          ],
          "name": "stdout"
        }
      ]
    },
    {
      "cell_type": "markdown",
      "metadata": {
        "id": "tSEUbBf82gQe",
        "colab_type": "text"
      },
      "source": [
        "**REMOVE STOP WORDS**"
      ]
    },
    {
      "cell_type": "code",
      "metadata": {
        "id": "-mFmZksIwM1r",
        "colab_type": "code",
        "colab": {
          "base_uri": "https://localhost:8080/",
          "height": 202
        },
        "outputId": "291ac5a0-6997-47ba-de93-67e908235b42"
      },
      "source": [
        "remover = StopWordsRemover(inputCol='tokens', outputCol='words_clean')\n",
        "data_tokens = remover.transform(data_tokens).select('words_clean')\n",
        "data_tokens.show(5)"
      ],
      "execution_count": 91,
      "outputs": [
        {
          "output_type": "stream",
          "text": [
            "+--------------------+\n",
            "|         words_clean|\n",
            "+--------------------+\n",
            "|[ive, read, book,...|\n",
            "|[nicely, written,...|\n",
            "|              [love]|\n",
            "|[good, additional...|\n",
            "|[gazillion, patte...|\n",
            "+--------------------+\n",
            "only showing top 5 rows\n",
            "\n"
          ],
          "name": "stdout"
        }
      ]
    },
    {
      "cell_type": "code",
      "metadata": {
        "id": "3GcDQprhwWya",
        "colab_type": "code",
        "colab": {
          "base_uri": "https://localhost:8080/",
          "height": 50
        },
        "outputId": "79099e56-b514-48fd-ac31-b91b0d8a4d5d"
      },
      "source": [
        "pip install nltk"
      ],
      "execution_count": 92,
      "outputs": [
        {
          "output_type": "stream",
          "text": [
            "Requirement already satisfied: nltk in /usr/local/lib/python3.6/dist-packages (3.2.5)\n",
            "Requirement already satisfied: six in /usr/local/lib/python3.6/dist-packages (from nltk) (1.12.0)\n"
          ],
          "name": "stdout"
        }
      ]
    },
    {
      "cell_type": "code",
      "metadata": {
        "id": "6LjvLiyawgRZ",
        "colab_type": "code",
        "colab": {}
      },
      "source": [
        "from pyspark.sql.functions import col, lit\n",
        "from functools import reduce\n",
        "import nltk\n",
        "from nltk.corpus import stopwords\n",
        "from nltk.stem import WordNetLemmatizer\n",
        "import matplotlib.pyplot as plt\n",
        "from wordcloud import WordCloud \n",
        "import pandas as pd\n",
        "import re\n",
        "import string"
      ],
      "execution_count": 0,
      "outputs": []
    },
    {
      "cell_type": "code",
      "metadata": {
        "id": "rnL375HQwnWV",
        "colab_type": "code",
        "colab": {
          "base_uri": "https://localhost:8080/",
          "height": 34
        },
        "outputId": "8d89a10a-4551-4bba-b7cd-5288303934e1"
      },
      "source": [
        "data_tokens.withColumn(\"doc_id\", monotonically_increasing_id())"
      ],
      "execution_count": 94,
      "outputs": [
        {
          "output_type": "execute_result",
          "data": {
            "text/plain": [
              "DataFrame[words_clean: array<string>, doc_id: bigint]"
            ]
          },
          "metadata": {
            "tags": []
          },
          "execution_count": 94
        }
      ]
    },
    {
      "cell_type": "code",
      "metadata": {
        "id": "Wx6UBOLwwt08",
        "colab_type": "code",
        "colab": {}
      },
      "source": [
        ""
      ],
      "execution_count": 0,
      "outputs": []
    }
  ]
}